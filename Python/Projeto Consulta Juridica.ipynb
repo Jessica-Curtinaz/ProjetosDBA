{
 "cells": [
  {
   "cell_type": "markdown",
   "id": "302bc1fc",
   "metadata": {},
   "source": [
    "### Projeto Consulta Juridica"
   ]
  },
  {
   "cell_type": "markdown",
   "id": "69c4df60",
   "metadata": {},
   "source": [
    "Criando o Navegador"
   ]
  },
  {
   "cell_type": "code",
   "execution_count": 103,
   "id": "90067251",
   "metadata": {},
   "outputs": [],
   "source": [
    "from selenium import webdriver\n",
    "from selenium.webdriver.chrome.service import Service\n",
    "from webdriver_manager.chrome import ChromeDriverManager\n",
    "from selenium.webdriver.common.by import By\n",
    "from selenium.webdriver.common.alert import Alert\n",
    "import time\n",
    "\n",
    "servico = Service(ChromeDriverManager().install())\n",
    "navegador = webdriver.Chrome(service=servico)"
   ]
  },
  {
   "cell_type": "markdown",
   "id": "0302a22d",
   "metadata": {},
   "source": [
    "Abrindo a página"
   ]
  },
  {
   "cell_type": "code",
   "execution_count": 104,
   "id": "b37d5bab",
   "metadata": {},
   "outputs": [],
   "source": [
    "import os\n",
    "\n",
    "caminho = os.getcwd()\n",
    "arquivo = caminho + r'\\index.html'\n",
    "navegador.get(arquivo)"
   ]
  },
  {
   "cell_type": "markdown",
   "id": "c73e9b13",
   "metadata": {},
   "source": [
    "Lendo o arquivo com os processos a serem consultados"
   ]
  },
  {
   "cell_type": "code",
   "execution_count": 105,
   "id": "992b766d",
   "metadata": {},
   "outputs": [
    {
     "data": {
      "text/html": [
       "<div>\n",
       "<style scoped>\n",
       "    .dataframe tbody tr th:only-of-type {\n",
       "        vertical-align: middle;\n",
       "    }\n",
       "\n",
       "    .dataframe tbody tr th {\n",
       "        vertical-align: top;\n",
       "    }\n",
       "\n",
       "    .dataframe thead th {\n",
       "        text-align: right;\n",
       "    }\n",
       "</style>\n",
       "<table border=\"1\" class=\"dataframe\">\n",
       "  <thead>\n",
       "    <tr style=\"text-align: right;\">\n",
       "      <th></th>\n",
       "      <th>Nome</th>\n",
       "      <th>Advogado</th>\n",
       "      <th>Processo</th>\n",
       "      <th>Cidade</th>\n",
       "      <th>Status</th>\n",
       "    </tr>\n",
       "  </thead>\n",
       "  <tbody>\n",
       "    <tr>\n",
       "      <th>0</th>\n",
       "      <td>Lira</td>\n",
       "      <td>Alon Lawyer</td>\n",
       "      <td>PC6592</td>\n",
       "      <td>Distrito Federal</td>\n",
       "      <td>NaN</td>\n",
       "    </tr>\n",
       "    <tr>\n",
       "      <th>1</th>\n",
       "      <td>João</td>\n",
       "      <td>Lawyer Alon</td>\n",
       "      <td>EB3792</td>\n",
       "      <td>Rio de Janeiro</td>\n",
       "      <td>NaN</td>\n",
       "    </tr>\n",
       "    <tr>\n",
       "      <th>2</th>\n",
       "      <td>Amanda</td>\n",
       "      <td>Amanda mesmo</td>\n",
       "      <td>MM1043</td>\n",
       "      <td>Rio de Janeiro</td>\n",
       "      <td>NaN</td>\n",
       "    </tr>\n",
       "    <tr>\n",
       "      <th>3</th>\n",
       "      <td>Carol</td>\n",
       "      <td>Amanda</td>\n",
       "      <td>PC5197</td>\n",
       "      <td>São Paulo</td>\n",
       "      <td>NaN</td>\n",
       "    </tr>\n",
       "  </tbody>\n",
       "</table>\n",
       "</div>"
      ],
      "text/plain": [
       "     Nome      Advogado Processo            Cidade  Status\n",
       "0    Lira   Alon Lawyer   PC6592  Distrito Federal     NaN\n",
       "1    João   Lawyer Alon   EB3792    Rio de Janeiro     NaN\n",
       "2  Amanda  Amanda mesmo   MM1043    Rio de Janeiro     NaN\n",
       "3   Carol        Amanda   PC5197         São Paulo     NaN"
      ]
     },
     "metadata": {},
     "output_type": "display_data"
    }
   ],
   "source": [
    "import pandas as pd\n",
    "\n",
    "processos_df = pd.read_excel(r'Processos.xlsx')\n",
    "display(processos_df)"
   ]
  },
  {
   "cell_type": "markdown",
   "id": "90f5d0e1",
   "metadata": {},
   "source": [
    "Preenchendo formulario e consultando os processos"
   ]
  },
  {
   "cell_type": "code",
   "execution_count": null,
   "id": "fb5880ac",
   "metadata": {},
   "outputs": [],
   "source": [
    "from selenium.webdriver import ActionChains\n",
    "\n",
    "botao_est = navegador.find_element(By.XPATH, '/html/body/div/div/button')\n",
    "\n",
    "# percorrendo os processos, linha por linha da tabela\n",
    "for linha in processos_df.index:\n",
    "    # acessando o menu de estados\n",
    "    ActionChains(navegador).move_to_element(botao_est).perform()\n",
    "    cidade = processos_df.loc[linha, 'Cidade']\n",
    "    navegador.find_element(By.PARTIAL_LINK_TEXT, cidade).click()\n",
    "    \n",
    "    # indo para a nova aba que abriu\n",
    "    lista_abas = navegador.window_handles\n",
    "    navegador.switch_to.window(lista_abas[1])\n",
    "\n",
    "    # preenchendo o formulario\n",
    "    navegador.find_element(By.ID, 'nome').send_keys(processos_df.loc[linha, 'Nome'])\n",
    "    navegador.find_element(By.ID, 'advogado').send_keys(processos_df.loc[linha, 'Advogado'])\n",
    "    navegador.find_element(By.ID, 'numero').send_keys(processos_df.loc[linha, 'Processo'])\n",
    "\n",
    "    navegador.find_element(By.XPATH, '//*[@id=\"formulario\"]/div/button').click()\n",
    "\n",
    "    Alert(navegador).accept()\n",
    "\n",
    "    # aguardando a pesquisa ser feita\n",
    "    while not Alert(navegador):\n",
    "        time.sleep(1)\n",
    "    time.sleep(5)\n",
    "    \n",
    "    # verificando se o processo existe e preenchendo o status da tabela\n",
    "    if 'Processo encontrado com sucesso' in Alert(navegador).text:\n",
    "        Alert(navegador).accept()\n",
    "        processos_df.loc[linha, 'Status'] = 'Encontrado'\n",
    "    else:\n",
    "        Alert(navegador).accept()\n",
    "        processos_df.loc[linha, 'Status'] = 'Não Encontrado'\n",
    "\n",
    "    navegador.close()\n",
    "\n",
    "    navegador.switch_to.window(lista_abas[0])"
   ]
  },
  {
   "cell_type": "code",
   "execution_count": 107,
   "id": "000b60eb",
   "metadata": {},
   "outputs": [
    {
     "data": {
      "text/html": [
       "<div>\n",
       "<style scoped>\n",
       "    .dataframe tbody tr th:only-of-type {\n",
       "        vertical-align: middle;\n",
       "    }\n",
       "\n",
       "    .dataframe tbody tr th {\n",
       "        vertical-align: top;\n",
       "    }\n",
       "\n",
       "    .dataframe thead th {\n",
       "        text-align: right;\n",
       "    }\n",
       "</style>\n",
       "<table border=\"1\" class=\"dataframe\">\n",
       "  <thead>\n",
       "    <tr style=\"text-align: right;\">\n",
       "      <th></th>\n",
       "      <th>Nome</th>\n",
       "      <th>Advogado</th>\n",
       "      <th>Processo</th>\n",
       "      <th>Cidade</th>\n",
       "      <th>Status</th>\n",
       "    </tr>\n",
       "  </thead>\n",
       "  <tbody>\n",
       "    <tr>\n",
       "      <th>0</th>\n",
       "      <td>Lira</td>\n",
       "      <td>Alon Lawyer</td>\n",
       "      <td>PC6592</td>\n",
       "      <td>Distrito Federal</td>\n",
       "      <td>Encontrado</td>\n",
       "    </tr>\n",
       "    <tr>\n",
       "      <th>1</th>\n",
       "      <td>João</td>\n",
       "      <td>Lawyer Alon</td>\n",
       "      <td>EB3792</td>\n",
       "      <td>Rio de Janeiro</td>\n",
       "      <td>Não Encontrado</td>\n",
       "    </tr>\n",
       "    <tr>\n",
       "      <th>2</th>\n",
       "      <td>Amanda</td>\n",
       "      <td>Amanda mesmo</td>\n",
       "      <td>MM1043</td>\n",
       "      <td>Rio de Janeiro</td>\n",
       "      <td>Não Encontrado</td>\n",
       "    </tr>\n",
       "    <tr>\n",
       "      <th>3</th>\n",
       "      <td>Carol</td>\n",
       "      <td>Amanda</td>\n",
       "      <td>PC5197</td>\n",
       "      <td>São Paulo</td>\n",
       "      <td>Não Encontrado</td>\n",
       "    </tr>\n",
       "  </tbody>\n",
       "</table>\n",
       "</div>"
      ],
      "text/plain": [
       "     Nome      Advogado Processo            Cidade          Status\n",
       "0    Lira   Alon Lawyer   PC6592  Distrito Federal      Encontrado\n",
       "1    João   Lawyer Alon   EB3792    Rio de Janeiro  Não Encontrado\n",
       "2  Amanda  Amanda mesmo   MM1043    Rio de Janeiro  Não Encontrado\n",
       "3   Carol        Amanda   PC5197         São Paulo  Não Encontrado"
      ]
     },
     "metadata": {},
     "output_type": "display_data"
    }
   ],
   "source": [
    "navegador.quit()\n",
    "\n",
    "display(processos_df)"
   ]
  }
 ],
 "metadata": {
  "kernelspec": {
   "display_name": "Python 3",
   "language": "python",
   "name": "python3"
  },
  "language_info": {
   "codemirror_mode": {
    "name": "ipython",
    "version": 3
   },
   "file_extension": ".py",
   "mimetype": "text/x-python",
   "name": "python",
   "nbconvert_exporter": "python",
   "pygments_lexer": "ipython3",
   "version": "3.13.3"
  }
 },
 "nbformat": 4,
 "nbformat_minor": 5
}
